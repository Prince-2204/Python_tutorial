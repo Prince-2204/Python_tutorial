{
 "cells": [
  {
   "cell_type": "code",
   "execution_count": 1,
   "id": "b7a50f36",
   "metadata": {},
   "outputs": [
    {
     "name": "stdout",
     "output_type": "stream",
     "text": [
      "Enter the Size of list : 5\n",
      "Enter the Values : 1\n",
      "Enter the Values : aman\n",
      "Enter the Values : 78\n",
      "Enter the Values : +\n",
      "Enter the Values : /\n"
     ]
    },
    {
     "data": {
      "text/plain": [
       "['1', 'aman', '78', '+', '/']"
      ]
     },
     "execution_count": 1,
     "metadata": {},
     "output_type": "execute_result"
    }
   ],
   "source": [
    "# Creating a list\n",
    "\n",
    "student_marks = ([5,4,7,8,9,10,12,45])\n",
    "student_marks\n",
    "#or we can also define it as\n",
    "student_marks = [5,4,7,8,9,10,12,45] #both are same.\n",
    "student_marks\n",
    "\n",
    "# Creating a list by taking input from user\n",
    "list = []   #creating a empty list\n",
    "try:\n",
    "    n = int(input(\"Enter the Size of list : \"))\n",
    "except:\n",
    "    print(\"Please enter the Integer value\")\n",
    "    \n",
    "# Now we will use loop to take the inputs\n",
    "for i in range(n):\n",
    "    x = input(\"Enter the Values : \")\n",
    "    list.append(x)\n",
    "    \n",
    "list\n",
    "\n",
    "# As we see one list can contain different types of data types\n",
    "\n"
   ]
  },
  {
   "cell_type": "code",
   "execution_count": 11,
   "id": "68cdf0db",
   "metadata": {},
   "outputs": [
    {
     "data": {
      "text/plain": [
       "([[1, 2, 3, 4, 5, 7], [8, 9, 5, 4, 10]], list)"
      ]
     },
     "execution_count": 11,
     "metadata": {},
     "output_type": "execute_result"
    }
   ],
   "source": [
    "# Creating a nested list\n",
    "# Nested List refers to list inside a list it is represented by [[]]\n",
    "\n",
    "nested_list = ([[1,2,3,4,5,7],[8,9,5,4,10]])  #Here we can see that there are two sublists inside a list\n",
    "# or we can write it as\n",
    "nested_list = [[1,2,3,4,5,7],[8,9,5,4,10]]  #Both are same\n",
    "nested_list , type(nested_list)"
   ]
  },
  {
   "cell_type": "code",
   "execution_count": 12,
   "id": "34ce9db3",
   "metadata": {},
   "outputs": [
    {
     "data": {
      "text/plain": [
       "(([1, 2, 3, 4, 5, 7], [8, 9, 5, 4, 10]), tuple)"
      ]
     },
     "execution_count": 12,
     "metadata": {},
     "output_type": "execute_result"
    }
   ],
   "source": [
    "# Now lets take another example\n",
    "nested_list = ([1,2,3,4,5,7],[8,9,5,4,10])  # This is not a nested list this a tuple which contains Two lists.\n",
    "nested_list , type(nested_list)  # You can use type() function to know the type of the variable or object."
   ]
  },
  {
   "cell_type": "code",
   "execution_count": 18,
   "id": "9ca2a07b",
   "metadata": {},
   "outputs": [
    {
     "name": "stdout",
     "output_type": "stream",
     "text": [
      "Enter the Size of list1 : 5\n",
      "Enter the size of list2 : 3\n",
      "Enter the List element : 1\n",
      "Enter the List element : 2\n",
      "Enter the List element : 3\n",
      "Enter the List element : 4\n",
      "Enter the List element : 5\n",
      "Enter the List element : 6\n",
      "Enter the List element : 7\n",
      "Enter the List element : 8\n"
     ]
    },
    {
     "data": {
      "text/plain": [
       "[['1', '2', '3', '4', '5'], ['6', '7', '8']]"
      ]
     },
     "execution_count": 18,
     "metadata": {},
     "output_type": "execute_result"
    }
   ],
   "source": [
    "# AS a begineer you can make nested list like this :\n",
    "list1 = []\n",
    "list2 = []\n",
    "n1 = int(input(\"Enter the Size of list1 : \"))\n",
    "n2 = int(input(\"Enter the size of list2 : \"))\n",
    "\n",
    "for i in range(n1):\n",
    "    x = input(\"Enter the List element : \")\n",
    "    list1.append(x)\n",
    "    \n",
    "for i in range(n2):\n",
    "    x = input(\"Enter the List element : \")\n",
    "    list2.append(x)\n",
    "    \n",
    "    \n",
    "list = [list1 , list2]\n",
    "list\n",
    "    \n",
    "\n",
    "# But this is not the efficient way of doing it because it not possible to define sub lists manually \n",
    "#if the number of sub lists is large say 100\n",
    "\n"
   ]
  },
  {
   "cell_type": "code",
   "execution_count": 19,
   "id": "123e0df5",
   "metadata": {},
   "outputs": [
    {
     "name": "stdout",
     "output_type": "stream",
     "text": [
      "Enter the number of Sublists you want : 3\n",
      "Enter the number of element in each list : 4\n",
      "Enter the 0 sublist 0 value : 1\n",
      "Enter the 0 sublist 1 value : 2\n",
      "Enter the 0 sublist 2 value : 3\n",
      "Enter the 0 sublist 3 value : 4\n",
      "Enter the 1 sublist 0 value : 4\n",
      "Enter the 1 sublist 1 value : 5\n",
      "Enter the 1 sublist 2 value : 6\n",
      "Enter the 1 sublist 3 value : 7\n",
      "Enter the 2 sublist 0 value : 8\n",
      "Enter the 2 sublist 1 value : 9\n",
      "Enter the 2 sublist 2 value : 10\n",
      "Enter the 2 sublist 3 value : 11\n"
     ]
    },
    {
     "data": {
      "text/plain": [
       "[['1', '2', '3', '4'], ['4', '5', '6', '7'], ['8', '9', '10', '11']]"
      ]
     },
     "execution_count": 19,
     "metadata": {},
     "output_type": "execute_result"
    }
   ],
   "source": [
    "# More efficient way of making a nested list\n",
    "\n",
    "no_of_sublists = int(input(\"Enter the number of Sublists you want : \"))\n",
    "elements_in_each_list = int(input(\"Enter the number of element in each list : \"))\n",
    "list = []\n",
    "for i in range(no_of_sublists):\n",
    "    sublist = []\n",
    "    \n",
    "    for j in range(elements_in_each_list):\n",
    "         x = input(f\"Enter the {i} sublist {j} value : \")\n",
    "         sublist.append(x)\n",
    "        \n",
    "    list.append(sublist)\n",
    "    \n",
    "    \n",
    "list\n",
    "         \n",
    "     \n",
    "# How this code function :- Firstly it is taking input of from user regarding,\n",
    "# how much sublist they want and in each sublist how much element should be there.\n",
    "#then it is running a for loop in the range no_of_sublists and \n",
    "#inside it there is another for loop in the range elements_in_each_list\n",
    "\n",
    "# Now first for loop will create a 1 sublist after that the second for loop will add the elements in that sublist.\n",
    "# Once 1st sublist get filled first for loop will again create 2nd sublist and the same process will continue.\n",
    "    \n",
    "\n",
    "\n"
   ]
  },
  {
   "cell_type": "code",
   "execution_count": 21,
   "id": "645a0c2f",
   "metadata": {},
   "outputs": [
    {
     "name": "stdout",
     "output_type": "stream",
     "text": [
      "Enter the number of sublist you want : 4\n",
      "Enter the space-separated values for row 1 : 1 2\n",
      "Enter the space-separated values for row 2 : 1 2 3 4\n",
      "Enter the space-separated values for row 3 : 1\n",
      "Enter the space-separated values for row 4 : 78 aman\n"
     ]
    },
    {
     "data": {
      "text/plain": [
       "[['1', '2'], ['1', '2', '3', '4'], ['1'], ['78', 'aman']]"
      ]
     },
     "execution_count": 21,
     "metadata": {},
     "output_type": "execute_result"
    }
   ],
   "source": [
    "# Now there is a small problem in the above code. \n",
    "#The Problem is like this Suppose we want each sublist should contain different number of element.\n",
    "# E.g :- list = [[1,2] , [1,2,3,4] , [1] , [78, 'aman']]. How to create such type of nested list ?\n",
    "\n",
    "no_of_sublist = int(input(\"Enter the number of sublist you want : \"))\n",
    "list = []\n",
    "\n",
    "for i in range(no_of_sublist):\n",
    "    x = input(f\"Enter the space-separated values for row {i + 1} : \")\n",
    "    sublist_values = x.split()\n",
    "    \n",
    "    list.append(sublist_values)\n",
    "    \n",
    "list\n",
    "# hence we solved the problem :)    \n",
    "     \n",
    "    "
   ]
  },
  {
   "cell_type": "code",
   "execution_count": 31,
   "id": "9542a61e",
   "metadata": {},
   "outputs": [
    {
     "data": {
      "text/plain": [
       "[100, 99]"
      ]
     },
     "execution_count": 31,
     "metadata": {},
     "output_type": "execute_result"
    }
   ],
   "source": [
    "# How to extract elements from List\n",
    "student_marks = [100 , 99 , 95 , 75 , 45 , 15 , 222 , 111 ,0 ,7] \n",
    "student_marks[0] # for extracting single element\n",
    "\n",
    "student_marks[0:2] # for extracting multiple elemnts. Note:- when we are writting [0:2] , in this index 2 is excluded.\n"
   ]
  },
  {
   "cell_type": "code",
   "execution_count": 32,
   "id": "b7662287",
   "metadata": {},
   "outputs": [
    {
     "data": {
      "text/plain": [
       "7"
      ]
     },
     "execution_count": 32,
     "metadata": {},
     "output_type": "execute_result"
    }
   ],
   "source": [
    "student_marks[-1] # This will return the last element "
   ]
  },
  {
   "cell_type": "code",
   "execution_count": 33,
   "id": "5cba1d7a",
   "metadata": {},
   "outputs": [
    {
     "data": {
      "text/plain": [
       "[0, 7]"
      ]
     },
     "execution_count": 33,
     "metadata": {},
     "output_type": "execute_result"
    }
   ],
   "source": [
    "student_marks[-2:] # This will return the element from second last till end"
   ]
  },
  {
   "cell_type": "code",
   "execution_count": 38,
   "id": "77c9c664",
   "metadata": {},
   "outputs": [
    {
     "data": {
      "text/plain": [
       "[5, 4, 10]"
      ]
     },
     "execution_count": 38,
     "metadata": {},
     "output_type": "execute_result"
    }
   ],
   "source": [
    "# How to extract elements from nested list\n",
    "nested_list = [[1,2,3,4,5,7],[8,9,5,4,10]]\n",
    "nested_list[0]  # This will return the 1st sublist\n",
    "nested_list[0][2] # This will return the 1st sublist 3rd element\n",
    "nested_list[1][2:] # This will return the 1st sublist 3rd to all elements\n"
   ]
  },
  {
   "cell_type": "code",
   "execution_count": 39,
   "id": "6800c278",
   "metadata": {},
   "outputs": [
    {
     "name": "stdout",
     "output_type": "stream",
     "text": [
      "100\n",
      "99\n",
      "95\n",
      "75\n",
      "45\n",
      "15\n",
      "222\n",
      "111\n",
      "0\n",
      "7\n"
     ]
    }
   ],
   "source": [
    "# Loop method for extracting elements \n",
    "student_marks = [100 , 99 , 95 , 75 , 45 , 15 , 222 , 111 ,0 ,7]\n",
    "for i in student_marks :\n",
    "    print(i)"
   ]
  },
  {
   "cell_type": "code",
   "execution_count": 40,
   "id": "092b62e9",
   "metadata": {},
   "outputs": [
    {
     "name": "stdout",
     "output_type": "stream",
     "text": [
      "100\n",
      "99\n",
      "95\n",
      "75\n",
      "45\n",
      "15\n",
      "222\n",
      "111\n",
      "0\n",
      "7\n"
     ]
    }
   ],
   "source": [
    "# Method 2 of doing the same\n",
    "for i in range(len(student_marks)):\n",
    "    print(student_marks[i])"
   ]
  },
  {
   "cell_type": "code",
   "execution_count": 43,
   "id": "94b95291",
   "metadata": {},
   "outputs": [
    {
     "name": "stdout",
     "output_type": "stream",
     "text": [
      "1\n",
      "2\n",
      "3\n",
      "4\n",
      "5\n",
      "7\n",
      "8\n",
      "9\n",
      "5\n",
      "4\n",
      "10\n"
     ]
    }
   ],
   "source": [
    "# Loop method for extracting the elements of nested list\n",
    "nested_list = [[1,2,3,4,5,7],[8,9,5,4,10]]\n",
    "for i in nested_list:\n",
    "    for j in i:\n",
    "        print(j)\n"
   ]
  },
  {
   "cell_type": "code",
   "execution_count": 44,
   "id": "4bc263dd",
   "metadata": {},
   "outputs": [
    {
     "name": "stdout",
     "output_type": "stream",
     "text": [
      "1\n",
      "2\n",
      "3\n",
      "4\n",
      "5\n",
      "7\n",
      "8\n",
      "9\n",
      "5\n",
      "4\n",
      "10\n"
     ]
    }
   ],
   "source": [
    "# Method 2 of doing the same : \n",
    "nested_list = [[1,2,3,4,5,7],[8,9,5,4,10]]\n",
    "for i in range(len(nested_list)):\n",
    "    for j in range(len(nested_list[i])):\n",
    "        print(nested_list[i][j])"
   ]
  },
  {
   "cell_type": "code",
   "execution_count": 45,
   "id": "bd9d0fef",
   "metadata": {},
   "outputs": [
    {
     "data": {
      "text/plain": [
       "[100, 99, 95, 75, 45, 15, 222, 111, 0, 7, 111]"
      ]
     },
     "execution_count": 45,
     "metadata": {},
     "output_type": "execute_result"
    }
   ],
   "source": [
    "# Adding Elements in list\n",
    "student_marks = [100 , 99 , 95 , 75 , 45 , 15 , 222 , 111 ,0 ,7]\n",
    "nested_list = [[1,2,3,4,5,7],[8,9,5,4,10]]\n",
    "\n",
    "student_marks.append(111) # .append() will add element at the last\n",
    "student_marks"
   ]
  },
  {
   "cell_type": "code",
   "execution_count": 47,
   "id": "ec0e74e0",
   "metadata": {},
   "outputs": [
    {
     "data": {
      "text/plain": [
       "[[1, 2, 3, 4, 5, 7], [8, 9, 5, 4, 10], [45, 21], [45, 21]]"
      ]
     },
     "execution_count": 47,
     "metadata": {},
     "output_type": "execute_result"
    }
   ],
   "source": [
    "nested_list.append([45 , 21])\n",
    "nested_list"
   ]
  },
  {
   "cell_type": "code",
   "execution_count": 49,
   "id": "20ed9ce4",
   "metadata": {},
   "outputs": [
    {
     "data": {
      "text/plain": [
       "[[1, 2, 3, 4, 5, 7], [8, 9, 5, 4, 10], [45, 21], [45, 21], 14, 14]"
      ]
     },
     "execution_count": 49,
     "metadata": {},
     "output_type": "execute_result"
    }
   ],
   "source": [
    "nested_list.append(14)\n",
    "nested_list"
   ]
  },
  {
   "cell_type": "code",
   "execution_count": 50,
   "id": "2e42a089",
   "metadata": {},
   "outputs": [
    {
     "data": {
      "text/plain": [
       "[100, 99, 95, 75, 45, 15, 222, 111, 0, 7, 111, [21, 45]]"
      ]
     },
     "execution_count": 50,
     "metadata": {},
     "output_type": "execute_result"
    }
   ],
   "source": [
    "student_marks.append([21,45])\n",
    "student_marks"
   ]
  },
  {
   "cell_type": "code",
   "execution_count": 51,
   "id": "25c6862f",
   "metadata": {},
   "outputs": [
    {
     "data": {
      "text/plain": [
       "[100, 99, 4589, 95, 75, 45, 15, 222, 111, 0, 7, 111, [21, 45]]"
      ]
     },
     "execution_count": 51,
     "metadata": {},
     "output_type": "execute_result"
    }
   ],
   "source": [
    "# If we want to insert an element at a specific posistion then .insert(position , value) is used\n",
    "student_marks.insert(2,4589) # this will insert element at 3rd position\n",
    "student_marks"
   ]
  },
  {
   "cell_type": "code",
   "execution_count": 52,
   "id": "3319822f",
   "metadata": {},
   "outputs": [
    {
     "data": {
      "text/plain": [
       "[[1, 44444, 2, 3, 4, 5, 7], [8, 9, 5, 4, 10], [45, 21], [45, 21], 14, 14]"
      ]
     },
     "execution_count": 52,
     "metadata": {},
     "output_type": "execute_result"
    }
   ],
   "source": [
    "nested_list[0].insert(1 , 44444)\n",
    "nested_list"
   ]
  },
  {
   "cell_type": "code",
   "execution_count": 53,
   "id": "4ebdb0ec",
   "metadata": {},
   "outputs": [
    {
     "data": {
      "text/plain": [
       "[100, 99, 95, 75, 45, 15, 222, 111, 0, 7, [4, 11]]"
      ]
     },
     "execution_count": 53,
     "metadata": {},
     "output_type": "execute_result"
    }
   ],
   "source": [
    "student_marks = [100 , 99 , 95 , 75 , 45 , 15 , 222 , 111 ,0 ,7]\n",
    "student_marks.append([4,11]) # This will create a sublist at end \n",
    "student_marks"
   ]
  },
  {
   "cell_type": "code",
   "execution_count": 54,
   "id": "eeb19866",
   "metadata": {},
   "outputs": [
    {
     "data": {
      "text/plain": [
       "[100, [100, 456], 99, 95, 75, 45, 15, 222, 111, 0, 7]"
      ]
     },
     "execution_count": 54,
     "metadata": {},
     "output_type": "execute_result"
    }
   ],
   "source": [
    "student_marks = [100 , 99 , 95 , 75 , 45 , 15 , 222 , 111 ,0 ,7]\n",
    "student_marks.insert(1,[100,456]) # This will also do the same but at a specific position\n",
    "student_marks"
   ]
  },
  {
   "cell_type": "code",
   "execution_count": 55,
   "id": "c752f9f3",
   "metadata": {},
   "outputs": [
    {
     "data": {
      "text/plain": [
       "[100, [100, 456], 99, 95, 75, 45, 15, 222, 111, 0, 7, 111, 112, 113.456]"
      ]
     },
     "execution_count": 55,
     "metadata": {},
     "output_type": "execute_result"
    }
   ],
   "source": [
    "# How to add multiple elements\n",
    "\n",
    "student_marks.extend([111,112,113.456]) # This will add these elements at the end of the list\n",
    "student_marks"
   ]
  },
  {
   "cell_type": "code",
   "execution_count": 56,
   "id": "e77da106",
   "metadata": {},
   "outputs": [
    {
     "data": {
      "text/plain": [
       "[100, 99, 88, 45, 21, 95, 75, 45, 15, 222, 111, 0, 7]"
      ]
     },
     "execution_count": 56,
     "metadata": {},
     "output_type": "execute_result"
    }
   ],
   "source": [
    "# How to add multiple elements at a specific position \n",
    "student_marks = [100 , 99 , 95 , 75 , 45 , 15 , 222 , 111 ,0 ,7]\n",
    "student_marks[2:2] = [88,45,21] # This will start adding elements from 3rd position.\n",
    "student_marks\n"
   ]
  },
  {
   "cell_type": "code",
   "execution_count": 58,
   "id": "06de9cf0",
   "metadata": {},
   "outputs": [
    {
     "data": {
      "text/plain": [
       "[100, 95, 75, 45, 15, 99, 222, 111, 0, 7]"
      ]
     },
     "execution_count": 58,
     "metadata": {},
     "output_type": "execute_result"
    }
   ],
   "source": [
    "# Removing elemets from list\n",
    "student_marks = [100 , 99 , 95 , 75 , 45 , 15 , 99, 222 , 111 ,0 ,7]\n",
    "# using .remove() function\n",
    "student_marks.remove(99) # This will remove the first specified element. That's why we saw in this case 99 at index 1 is removed\n",
    "                         # but 99 at index 6 remains same.\n",
    "student_marks"
   ]
  },
  {
   "cell_type": "code",
   "execution_count": 59,
   "id": "5d90c853",
   "metadata": {},
   "outputs": [
    {
     "data": {
      "text/plain": [
       "[100, 95, 75, 45, 15, 222, 111, 0, 7]"
      ]
     },
     "execution_count": 59,
     "metadata": {},
     "output_type": "execute_result"
    }
   ],
   "source": [
    "# Now Let's suppose we want to remove all the 99 from the list\n",
    "\n",
    "student_marks = [100 , 99 , 95 , 75 , 45 , 15 , 99, 222 , 111 ,0 ,7]\n",
    "element = 99\n",
    "while element in student_marks :\n",
    "    student_marks.remove(99)\n",
    "    \n",
    "student_marks"
   ]
  },
  {
   "cell_type": "code",
   "execution_count": 60,
   "id": "cad5fa3d",
   "metadata": {},
   "outputs": [
    {
     "data": {
      "text/plain": [
       "7"
      ]
     },
     "execution_count": 60,
     "metadata": {},
     "output_type": "execute_result"
    }
   ],
   "source": [
    "# using .pop(index) function\n",
    "student_marks = [100 , 99 , 95 , 75 , 45 , 15 , 99, 222 , 111 ,0 ,7]\n",
    "student_marks.pop() # If we no define any index inside pop then it will remove last element of the list\n"
   ]
  },
  {
   "cell_type": "code",
   "execution_count": 61,
   "id": "ec191e7f",
   "metadata": {},
   "outputs": [
    {
     "data": {
      "text/plain": [
       "[100, 99, 95, 75, 45, 15, 99, 222, 111, 0]"
      ]
     },
     "execution_count": 61,
     "metadata": {},
     "output_type": "execute_result"
    }
   ],
   "source": [
    "student_marks"
   ]
  },
  {
   "cell_type": "code",
   "execution_count": 62,
   "id": "b82a4c5a",
   "metadata": {},
   "outputs": [
    {
     "data": {
      "text/plain": [
       "95"
      ]
     },
     "execution_count": 62,
     "metadata": {},
     "output_type": "execute_result"
    }
   ],
   "source": [
    "student_marks.pop(2)"
   ]
  },
  {
   "cell_type": "code",
   "execution_count": 63,
   "id": "4caf7608",
   "metadata": {},
   "outputs": [
    {
     "data": {
      "text/plain": [
       "[100, 99, 75, 45, 15, 99, 222, 111, 0]"
      ]
     },
     "execution_count": 63,
     "metadata": {},
     "output_type": "execute_result"
    }
   ],
   "source": [
    "student_marks"
   ]
  },
  {
   "cell_type": "code",
   "execution_count": 64,
   "id": "48191eb9",
   "metadata": {},
   "outputs": [
    {
     "data": {
      "text/plain": [
       "[]"
      ]
     },
     "execution_count": 64,
     "metadata": {},
     "output_type": "execute_result"
    }
   ],
   "source": [
    "# Using .clear() function. This will remove all ements from the list\n",
    "student_marks = [100 , 99 , 95 , 75 , 45 , 15 , 99, 222 , 111 ,0 ,7]\n",
    "student_marks.clear() \n",
    "student_marks"
   ]
  },
  {
   "cell_type": "code",
   "execution_count": 67,
   "id": "1bc96df0",
   "metadata": {},
   "outputs": [
    {
     "data": {
      "text/plain": [
       "[100, 99, 95, 75, 15, 99, 222, 111, 0, 7]"
      ]
     },
     "execution_count": 67,
     "metadata": {},
     "output_type": "execute_result"
    }
   ],
   "source": [
    "# using del\n",
    "student_marks = [100 , 99 , 95 , 75 , 45 , 15 , 99, 222 , 111 ,0 ,7]\n",
    "\n",
    "del student_marks[4]\n",
    "student_marks"
   ]
  },
  {
   "cell_type": "code",
   "execution_count": 66,
   "id": "34de8a49",
   "metadata": {},
   "outputs": [],
   "source": [
    "student_marks = [100 , 99 , 95 , 75 , 45 , 15 , 99, 222 , 111 ,0 ,7]"
   ]
  },
  {
   "cell_type": "code",
   "execution_count": 65,
   "id": "1aeaab4b",
   "metadata": {},
   "outputs": [
    {
     "data": {
      "text/plain": [
       "[1, 2, 3, 4, 5, 'aman', 'Apple']"
      ]
     },
     "execution_count": 65,
     "metadata": {},
     "output_type": "execute_result"
    }
   ],
   "source": [
    "# Concatenation in a list\n",
    "# for adding two lists we use + operator\n",
    "\n",
    "list1 = [1,2,3,4,5]\n",
    "list2 = [\"aman\" , \"Apple\"]\n",
    "\n",
    "list = list1 + list2\n",
    "list"
   ]
  },
  {
   "cell_type": "code",
   "execution_count": 68,
   "id": "d76e0c2c",
   "metadata": {},
   "outputs": [
    {
     "data": {
      "text/plain": [
       "7"
      ]
     },
     "execution_count": 68,
     "metadata": {},
     "output_type": "execute_result"
    }
   ],
   "source": [
    "# Some other features of the list\n",
    "# 1. .index(element)\n",
    "# this will return the index of specified element which is occuring first\n",
    "student_marks = [100 , 99 , 95 , 75 , 45 , 15 , 99, 222 , 111 ,0 ,7]\n",
    "\n",
    "student_marks.index(222)\n"
   ]
  },
  {
   "cell_type": "code",
   "execution_count": 69,
   "id": "4ed628ba",
   "metadata": {},
   "outputs": [
    {
     "data": {
      "text/plain": [
       "1"
      ]
     },
     "execution_count": 69,
     "metadata": {},
     "output_type": "execute_result"
    }
   ],
   "source": [
    "student_marks.index(99) # 99 is present twice but it will give the index which occur first."
   ]
  },
  {
   "cell_type": "code",
   "execution_count": 70,
   "id": "d8db0227",
   "metadata": {},
   "outputs": [
    {
     "data": {
      "text/plain": [
       "2"
      ]
     },
     "execution_count": 70,
     "metadata": {},
     "output_type": "execute_result"
    }
   ],
   "source": [
    "# 2. .count()\n",
    "# this will return the number of occurance of the specified element\n",
    "student_marks.count(99)"
   ]
  },
  {
   "cell_type": "code",
   "execution_count": 71,
   "id": "5e187276",
   "metadata": {},
   "outputs": [
    {
     "data": {
      "text/plain": [
       "2"
      ]
     },
     "execution_count": 71,
     "metadata": {},
     "output_type": "execute_result"
    }
   ],
   "source": [
    "student_marks.count(student_marks[1]) # both are same"
   ]
  },
  {
   "cell_type": "code",
   "execution_count": 75,
   "id": "d7ae9ef4",
   "metadata": {},
   "outputs": [
    {
     "data": {
      "text/plain": [
       "[0, 7, 15, 45, 75, 95, 99, 99, 100, 111, 222]"
      ]
     },
     "execution_count": 75,
     "metadata": {},
     "output_type": "execute_result"
    }
   ],
   "source": [
    "# 3) .sort() this will sort element in ascending order\n",
    "\n",
    "student_marks.sort()\n",
    "student_marks"
   ]
  },
  {
   "cell_type": "code",
   "execution_count": 77,
   "id": "6860af61",
   "metadata": {},
   "outputs": [
    {
     "data": {
      "text/plain": [
       "[222, 111, 100, 99, 99, 95, 75, 45, 15, 7, 0]"
      ]
     },
     "execution_count": 77,
     "metadata": {},
     "output_type": "execute_result"
    }
   ],
   "source": [
    "# arranging element in descending order\n",
    "student_marks = [100 , 99 , 95 , 75 , 45 , 15 , 99, 222 , 111 ,0 ,7]\n",
    "\n",
    "student_marks.sort(reverse = True)\n",
    "student_marks"
   ]
  },
  {
   "cell_type": "code",
   "execution_count": 79,
   "id": "46e304e7",
   "metadata": {},
   "outputs": [
    {
     "data": {
      "text/plain": [
       "[7, 0, 111, 222, 99, 15, 45, 75, 95, 99, 100]"
      ]
     },
     "execution_count": 79,
     "metadata": {},
     "output_type": "execute_result"
    }
   ],
   "source": [
    "# .reverse() this is used to reverse the list\n",
    "\n",
    "student_marks = [100 , 99 , 95 , 75 , 45 , 15 , 99, 222 , 111 ,0 ,7]\n",
    "\n",
    "student_marks.reverse()\n",
    "student_marks"
   ]
  },
  {
   "cell_type": "code",
   "execution_count": 80,
   "id": "9e8a7de4",
   "metadata": {},
   "outputs": [
    {
     "data": {
      "text/plain": [
       "[100, 99, 95, 75, 45, 15, 99, 222, 111, 0, 7]"
      ]
     },
     "execution_count": 80,
     "metadata": {},
     "output_type": "execute_result"
    }
   ],
   "source": [
    "# 4) .copy() this will create a copy of list\n",
    "\n",
    "student_marks = [100 , 99 , 95 , 75 , 45 , 15 , 99, 222 , 111 ,0 ,7]\n",
    "\n",
    "student = student_marks.copy()\n",
    "student"
   ]
  },
  {
   "cell_type": "code",
   "execution_count": 81,
   "id": "3c84fd50",
   "metadata": {},
   "outputs": [
    {
     "data": {
      "text/plain": [
       "[100, 99, 95, 75, 45, 15, 99, 222, 111, 0, 7]"
      ]
     },
     "execution_count": 81,
     "metadata": {},
     "output_type": "execute_result"
    }
   ],
   "source": [
    "# method 2 of copying element\n",
    "student_marks = [100 , 99 , 95 , 75 , 45 , 15 , 99, 222 , 111 ,0 ,7] \n",
    "\n",
    "student = student_marks[:]\n",
    "student\n"
   ]
  },
  {
   "cell_type": "code",
   "execution_count": 83,
   "id": "8f66cd64",
   "metadata": {},
   "outputs": [
    {
     "data": {
      "text/plain": [
       "[1, 4, 9]"
      ]
     },
     "execution_count": 83,
     "metadata": {},
     "output_type": "execute_result"
    }
   ],
   "source": [
    "# List Comprehension: it is a concise way to create a new list\n",
    "\n",
    "squares = [x**2 for x in range(1,4)]\n",
    "squares\n",
    "\n"
   ]
  },
  {
   "cell_type": "code",
   "execution_count": 84,
   "id": "0ebb2cd9",
   "metadata": {},
   "outputs": [
    {
     "data": {
      "text/plain": [
       "[10000, 9801, 9025, 5625, 2025, 225, 9801, 49284, 12321, 0, 49]"
      ]
     },
     "execution_count": 84,
     "metadata": {},
     "output_type": "execute_result"
    }
   ],
   "source": [
    "student_marks = [100 , 99 , 95 , 75 , 45 , 15 , 99, 222 , 111 ,0 ,7]\n",
    "squares = [marks**2 for marks in student_marks]\n",
    "squares"
   ]
  },
  {
   "cell_type": "code",
   "execution_count": 107,
   "id": "ff02673d",
   "metadata": {},
   "outputs": [
    {
     "name": "stdout",
     "output_type": "stream",
     "text": [
      "<map object at 0x000002004052FF10>\n"
     ]
    }
   ],
   "source": [
    "# Maping and Transforming list\n",
    "\n",
    "def square_num(x):\n",
    "    return x**2\n",
    "\n",
    "num = [2,5,6,7,9]\n",
    "square_numbers = []\n",
    "\n",
    "square_numbers = map(square_num , num)  # Map is built in function of python which tells to imply function on each element \n",
    "\n",
    "print((square_numbers))"
   ]
  },
  {
   "cell_type": "code",
   "execution_count": 103,
   "id": "6b0a3694",
   "metadata": {},
   "outputs": [],
   "source": [
    "#def square(x):\n",
    " #   return x**2\n",
    "\n",
    "#numbers = [2,5,6,7,9]\n",
    "\n",
    "#square_number = list(map(square , numbers))"
   ]
  },
  {
   "cell_type": "code",
   "execution_count": 104,
   "id": "477a1b75",
   "metadata": {},
   "outputs": [],
   "source": [
    "#def square_numbers(num):\n",
    "   # return num**2\n",
    "\n",
    "#num = [2, 5, 6, 7, 9]\n",
    "\n",
    "#square_numbers = list(map(square_numbers, num))\n",
    "#print(square_numbers)\n"
   ]
  },
  {
   "cell_type": "code",
   "execution_count": 105,
   "id": "e3bfaa38",
   "metadata": {},
   "outputs": [],
   "source": [
    "#Lambda Functions:\n",
    "# Lambda functions are anonymous functions that can be used inline. This can be used for defining short functions\n",
    "\n",
    "#numbers1 = [1, 2, 3]\n",
    "#numbers2 = [4, 5, 6]\n",
    " \n",
    "#result = map(lambda x, y: x + y, numbers1, numbers2)\n",
    "#print(list(result))\n"
   ]
  },
  {
   "cell_type": "code",
   "execution_count": 99,
   "id": "0336062a",
   "metadata": {},
   "outputs": [
    {
     "name": "stdout",
     "output_type": "stream",
     "text": [
      "45\n"
     ]
    }
   ],
   "source": [
    "#List Unpacking:\n",
    "#List unpacking allows you to assign the elements of a list to multiple variables in a single line. \n",
    "#It is particularly useful when working with functions that return multiple values. \n",
    "\n",
    "list = [45,58,98]\n",
    "a , b ,c  = list\n",
    "print(a)\n",
    "\n",
    "# While unpacking take care that the number of variables = no of elements in list"
   ]
  }
 ],
 "metadata": {
  "kernelspec": {
   "display_name": "Python 3 (ipykernel)",
   "language": "python",
   "name": "python3"
  },
  "language_info": {
   "codemirror_mode": {
    "name": "ipython",
    "version": 3
   },
   "file_extension": ".py",
   "mimetype": "text/x-python",
   "name": "python",
   "nbconvert_exporter": "python",
   "pygments_lexer": "ipython3",
   "version": "3.10.9"
  }
 },
 "nbformat": 4,
 "nbformat_minor": 5
}
